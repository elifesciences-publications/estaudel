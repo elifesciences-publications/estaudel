{
 "cells": [
  {
   "cell_type": "code",
   "execution_count": 1,
   "metadata": {},
   "outputs": [],
   "source": [
    "from functools import partial\n",
    "import numpy as np\n",
    "import matplotlib.pyplot as plt\n",
    "from mpl_toolkits.axes_grid1 import make_axes_locatable\n",
    "from matplotlib.colors import ListedColormap\n",
    "from collections import defaultdict\n",
    "import matplotlib.gridspec as gridspec\n",
    "import numpy as np\n",
    "import matplotlib.gridspec as gridspec\n",
    "\n",
    "import estaudel.escaffolding as escaffolding\n",
    "import estaudel.stochastic as stochastic\n",
    "import estaudel.heredity.process as ehp\n",
    "import estaudel.heredity.deterministic as ehd\n",
    "import estaudel.heredity.stochastic as ehs\n",
    "import estaudel.heredity.display \n",
    "\n",
    "panel_dict = dict(xy=(1, 1), xycoords=\"axes fraction\",\n",
    "           ha='center', va='center',\n",
    "            bbox=dict(boxstyle=\"round\",\n",
    "               ec=(.1, 0.1, .1),\n",
    "               fc=(1., 1, 1),\n",
    "           ))\n",
    "\n",
    "fontdict={'fontweight': 'normal', 'size':'x-large'}"
   ]
  },
  {
   "cell_type": "markdown",
   "metadata": {},
   "source": [
    "Here are the commands to generate the data: \n",
    "\n",
    "Continuing the trajectory from `full.pkle` without mutation nor selection. \n",
    "\n",
    "```bash\n",
    "./full_trajectory.py --N 1000 --continue \\\"full.pkle\\\" --NPROC 8 --selection \\\"neutral\\\" --name \\\"cont\\\" --mutation_rate 0\n",
    "```\n",
    "\n",
    "Same, but forcing a reset of the traits values: \n",
    "\n",
    "```bash\n",
    "./full_trajectory.py --N 1000 --continue \\\"full.pkle\\\" --NPROC 8 --selection \\\"neutral\\\" --name \\\"cont\\\" --mutation_rate 0  --force_traits True\n",
    "```"
   ]
  },
  {
   "cell_type": "code",
   "execution_count": 2,
   "metadata": {},
   "outputs": [],
   "source": [
    "path_derived = 'cont_20190426_080331_NPROC8_mutation_rate0_N1000_continue\"full.pkle\"_selection\"neutral\".pkle'\n",
    "path_intial = 'cont_20190426_084814_mutation_rate0_selection\"neutral\"_N1000_force_traitsTrue_NPROC8_continue\"full.pkle\".pkle'"
   ]
  },
  {
   "cell_type": "code",
   "execution_count": 3,
   "metadata": {},
   "outputs": [
    {
     "name": "stdout",
     "output_type": "stream",
     "text": [
      "Ecological scaffolding data 999 generations\n",
      "B: 15\n",
      "D: 1000\n",
      "N: 1000\n",
      "NPROC: 8\n",
      "T: 1\n",
      "carrying_capacity: 1500\n",
      "collectiveSelectionStrength: 1\n",
      "continue: full.pkle\n",
      "force_traits: True\n",
      "goal: 0.5\n",
      "initial_type0: (0, 6, 0.8, 0.15)\n",
      "initial_type1: (1, 4, 0.3, 0.15)\n",
      "max_types: 4\n",
      "mutation_effect: {1: 0.1, 3: 0.1}\n",
      "mutation_rate: 0\n",
      "name: cont\n",
      "percentile: 20\n",
      "selection: neutral\n",
      "skip: 100\n",
      "steps: 100\n",
      "--------------------------------------------------------------------------------\n",
      "Ecological scaffolding data 999 generations\n",
      "B: 15\n",
      "D: 1000\n",
      "N: 1000\n",
      "NPROC: 8\n",
      "T: 1\n",
      "carrying_capacity: 1500\n",
      "collectiveSelectionStrength: 1\n",
      "continue: full.pkle\n",
      "goal: 0.5\n",
      "initial_type0: (0, 6, 0.8, 0.15)\n",
      "initial_type1: (1, 4, 0.3, 0.15)\n",
      "max_types: 4\n",
      "mutation_effect: {1: 0.1, 3: 0.1}\n",
      "mutation_rate: 0\n",
      "name: cont\n",
      "percentile: 20\n",
      "selection: neutral\n",
      "skip: 100\n",
      "steps: 100\n",
      "--------------------------------------------------------------------------------\n"
     ]
    }
   ],
   "source": [
    "data_derived = escaffolding.load(path_derived)\n",
    "data_initial = escaffolding.load(path_intial)\n",
    "for d in [data_initial, data_derived]:\n",
    "    print(d)\n",
    "    print(\"\\n\".join([\"{}: {}\".format(k,v) for k,v in sorted(d.parameters.items())]))\n",
    "    print('-'*80)"
   ]
  },
  {
   "cell_type": "code",
   "execution_count": 5,
   "metadata": {},
   "outputs": [
    {
     "data": {
      "image/png": "[encoded data removed]",
      "text/plain": [
       "<Figure size 1080x288 with 5 Axes>"
      ]
     },
     "metadata": {},
     "output_type": "display_data"
    }
   ],
   "source": [
    "fig = plt.figure(figsize=(15,4))\n",
    "\n",
    "# Axes grid spec. \n",
    "grid_left =  gridspec.GridSpec(nrows=1, ncols=5, left=0.05, right=0.48, wspace=0.01, hspace=0.3)\n",
    "grid_right = gridspec.GridSpec(nrows=1, ncols=5, left=0.53, right=0.96, wspace=0.01, hspace=0.3)\n",
    "grid_colorbar = gridspec.GridSpec(nrows=1, ncols=1, left=0.97, right=0.99, wspace=0.01, hspace=0.3)\n",
    "\n",
    "# Create the axes\n",
    "cax = fig.add_subplot(grid_colorbar[0, 0])\n",
    "ax_left = fig.add_subplot(grid_left[0, 1:])\n",
    "ax_left_zoom = fig.add_subplot(grid_left[0, 0])\n",
    "ax_right = fig.add_subplot(grid_right[0, 1:])\n",
    "ax_right_zoom = fig.add_subplot(grid_right[0, 0])\n",
    "\n",
    "# Label the panels \n",
    "ax_left.annotate('A', **panel_dict)\n",
    "ax_right.annotate('B', **panel_dict)\n",
    "sup = fig.suptitle('Without collective selection nor particle mutation', fontsize='x-large')\n",
    "\n",
    "# Plot density\n",
    "estaudel.heredity.display.plot_density(data_initial, ax_left, zoom_first=10,\n",
    "             title='Initial particle traits', \n",
    "             ax_zoom=ax_left_zoom,\n",
    "             colorbar=True, \n",
    "             cax=cax)\n",
    "estaudel.heredity.display.plot_density(data_derived, ax_right, zoom_first=10, \n",
    "             title='Derived particle traits', \n",
    "             ax_zoom=ax_right_zoom)\n",
    "\n",
    "plt.savefig('nomutation_norselection.png', bbox_inches='tight')"
   ]
  }
 ],
 "metadata": {
  "kernelspec": {
   "display_name": "Python 3",
   "language": "python",
   "name": "python3"
  },
  "language_info": {
   "codemirror_mode": {
    "name": "ipython",
    "version": 3
   },
   "file_extension": ".py",
   "mimetype": "text/x-python",
   "name": "python",
   "nbconvert_exporter": "python",
   "pygments_lexer": "ipython3",
   "version": "3.5.3"
  },
  "toc": {
   "base_numbering": 1,
   "nav_menu": {},
   "number_sections": true,
   "sideBar": true,
   "skip_h1_title": false,
   "title_cell": "Table of Contents",
   "title_sidebar": "Contents",
   "toc_cell": false,
   "toc_position": {},
   "toc_section_display": true,
   "toc_window_display": false
  }
 },
 "nbformat": 4,
 "nbformat_minor": 2
}
