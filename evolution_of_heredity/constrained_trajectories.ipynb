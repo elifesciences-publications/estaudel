{
 "cells": [
  {
   "cell_type": "markdown",
   "metadata": {},
   "source": [
    "# Constrained trajectories\n",
    "\n",
    "This figure illustrate what happen if only one of the two pairs of traits (growth rate, or inter-color interaction rate) that were free to evolve become fixed.  \n",
    "\n",
    "Now we can look at a trajectory in a 2D trait-space ! "
   ]
  },
  {
   "cell_type": "code",
   "execution_count": 1,
   "metadata": {},
   "outputs": [],
   "source": [
    "from functools import partial\n",
    "import numpy as np\n",
    "import matplotlib.pyplot as plt\n",
    "from mpl_toolkits.axes_grid1 import make_axes_locatable\n",
    "from matplotlib.colors import ListedColormap\n",
    "\n",
    "import numpy as np\n",
    "import estaudel.escaffolding as escaffolding\n",
    "import estaudel.heredity.process\n",
    "from collections import Counter\n",
    "import estaudel.heredity.deterministic\n",
    "\n",
    "panel_dict = dict(xy=(1, 1), xycoords=\"axes fraction\",\n",
    "           ha='center', va='center',\n",
    "            bbox=dict(boxstyle=\"round\",\n",
    "               ec=(.1, 0.1, .1),\n",
    "               fc=(1., 1, 1),\n",
    "           ))"
   ]
  },
  {
   "cell_type": "markdown",
   "metadata": {},
   "source": [
    "# Data\n",
    "\n",
    "Here are the commands to generate this data\n",
    "\n",
    "```bash\n",
    "\n",
    "# Mutations only on the inter-color interaction rate (pos 3)\n",
    "python3 ./full_trajectory.py --N 300 --mutation_effect {3:0.05} --initial_type0 \"(0,25,0.8,0.7)\" --initial_type1 \"(1, 25, 0.7, 0.15)\"\n",
    "\n",
    "# Mutations only on the growth rate (pos 1)\n",
    "python3 ./full_trajectory.py --N 300 --carrying_capacity 1e20 --mutation_effect {1:0.05}```\n"
   ]
  },
  {
   "cell_type": "code",
   "execution_count": 2,
   "metadata": {},
   "outputs": [
    {
     "name": "stdout",
     "output_type": "stream",
     "text": [
      "Ecological scaffolding data 299 generations\n",
      "B: 15\n",
      "D: 1000\n",
      "N: 300\n",
      "NPROC: 2\n",
      "T: 1\n",
      "carrying_capacity: 1500\n",
      "collectiveSelectionStrength: 1\n",
      "continue: None\n",
      "goal: 0.5\n",
      "initial_type0: (0, 25, 0.8, 0.7)\n",
      "initial_type1: (1, 25, 0.7, 0.15)\n",
      "max_types: 4\n",
      "mutation_effect: {3: 0.05}\n",
      "mutation_rate: 1\n",
      "name: None\n",
      "percentile: 20\n",
      "selection: rank\n",
      "skip: 100\n",
      "steps: 100\n"
     ]
    }
   ],
   "source": [
    "out_a = escaffolding.load(\"20180629_200200_initial_type1(1, 25, 0.7, 0.15)_mutation_effect{3:0.05}_N300_initial_type0(0,25,0.8,0.7).pkle\")\n",
    "print(out_a)\n",
    "print(\"\\n\".join([\"{}: {}\".format(k,v) for k,v in sorted(out_a.parameters.items())]))"
   ]
  },
  {
   "cell_type": "code",
   "execution_count": 3,
   "metadata": {},
   "outputs": [
    {
     "name": "stdout",
     "output_type": "stream",
     "text": [
      "B: 15\n",
      "D: 1000\n",
      "N: 300\n",
      "NPROC: 2\n",
      "T: 1\n",
      "carrying_capacity: 1e+20\n",
      "collectiveSelectionStrength: 1\n",
      "continue: None\n",
      "goal: 0.5\n",
      "initial_type0: (0, 6, 0.8, 0.15)\n",
      "initial_type1: (1, 4, 0.3, 0.15)\n",
      "max_types: 4\n",
      "mutation_effect: {1: 0.05}\n",
      "mutation_rate: 1\n",
      "name: None\n",
      "percentile: 20\n",
      "selection: rank\n",
      "skip: 100\n",
      "steps: 100\n"
     ]
    }
   ],
   "source": [
    "out_r = escaffolding.load(\"20180629_200142_mutation_effect{1:0.05}_carrying_capacity1e20_N300.pkle\")\n",
    "#out_r.data['tstar'] = None\n",
    "#estaudel.heredity.process.extract(out_r)\n",
    "#print(out_r)\n",
    "print(\"\\n\".join([\"{}: {}\".format(k,v) for k,v in sorted(out_r.parameters.items())]))"
   ]
  },
  {
   "cell_type": "markdown",
   "metadata": {},
   "source": [
    "# Functions"
   ]
  },
  {
   "cell_type": "code",
   "execution_count": 4,
   "metadata": {},
   "outputs": [],
   "source": [
    "def get_resident_cloud(out, pos):\n",
    "    x,y,z = [],[],[]\n",
    "    for k,v in Counter(list(out.data['resident_id'].flatten())).items():\n",
    "            x.append(out.data['resident_pheno'][k][0][pos])\n",
    "            y.append(out.data['resident_pheno'][k][1][pos])\n",
    "            z.append(v)\n",
    "    mean_x, mean_y = [], []\n",
    "    \n",
    "    for gen in out.data['resident_id']:\n",
    "        mean_x.append(np.sum([out.data['resident_pheno'][k][0][pos] * v for k,v in Counter(gen).items()])/len(gen))\n",
    "        mean_y.append(np.sum([out.data['resident_pheno'][k][1][pos] * v for k,v in Counter(gen).items()])/len(gen))\n",
    "    return x,y,z,mean_x, mean_y"
   ]
  },
  {
   "cell_type": "markdown",
   "metadata": {},
   "source": [
    "# Plots"
   ]
  },
  {
   "cell_type": "code",
   "execution_count": 5,
   "metadata": {},
   "outputs": [],
   "source": [
    "r_cloud = get_resident_cloud(out_r,1)\n",
    "a_cloud = get_resident_cloud(out_a,3)"
   ]
  },
  {
   "cell_type": "code",
   "execution_count": 6,
   "metadata": {},
   "outputs": [],
   "source": [
    "r,A = estaudel.heredity.deterministic.convert_phenotypes_to_lv(\n",
    "    np.array([out_a.parameters['initial_type0'], out_a.parameters['initial_type1']]), K=1)\n",
    "xx = np.linspace(0,0.85)\n",
    "Xa,Ya = np.meshgrid(xx,xx)\n",
    "f = np.vectorize(lambda x,y: estaudel.heredity.deterministic.pstar(np.array([[A[0,0],y],[x,A[1,1]]])))\n",
    "Za = f(Xa,Ya)\n",
    "\n",
    "xx = np.linspace(np.min(np.array(r_cloud[:2])),np.max(np.array(r_cloud[:2])))\n",
    "Xr,Yr = np.meshgrid(xx,xx)\n",
    "f = np.vectorize(lambda x,y : estaudel.heredity.deterministic.get_gfunc(r=[x,y],A=None,B=None)(0.5,T=1))\n",
    "Zr = f(Xr,Yr)"
   ]
  },
  {
   "cell_type": "code",
   "execution_count": 17,
   "metadata": {},
   "outputs": [],
   "source": [
    "cdict1 = {'red':   ((0, 207/256, 207/256),\n",
    "                    (1.0, 0.0, 0.0)),\n",
    "\n",
    "         'green': ((0.0, 0.0, 0.0),\n",
    "                   (1, 171/256, 171/256)),\n",
    "\n",
    "         'blue':  ((0, 54/256, 54/256),\n",
    "                   #(0.5, 0.1, 0.0),\n",
    "                   (1, 212/256, 212/256))\n",
    "         }\n",
    "\n",
    "blue_red1 = LinearSegmentedColormap('BlueRed1', cdict1)"
   ]
  },
  {
   "cell_type": "code",
   "execution_count": 21,
   "metadata": {},
   "outputs": [
    {
     "data": {
      "image/png": "[encoded data removed]",
      "text/plain": [
       "<Figure size 720x720 with 2 Axes>"
      ]
     },
     "metadata": {},
     "output_type": "display_data"
    }
   ],
   "source": [
    "fig, ax = plt.subplots(1,1,figsize=(10,10))\n",
    "ax = [ax]\n",
    "cax = [make_axes_locatable(a).append_axes(\"right\", size=\"4%\", pad=0.11) for a in ax]\n",
    "#ax[0].annotate('B', **panel_dict)\n",
    "\n",
    "\n",
    "ticks = [0,0.25,0.5,0.75,1]\n",
    "levels = np.linspace(0,1,20)\n",
    "\n",
    "########### Mutating A #######################\n",
    "# Background \n",
    "im = ax[0].contourf(Xa, Ya, Za, cmap=blue_red1, levels=levels)\n",
    "ax[0].contourf(Xa, Ya, np.int_(np.isnan(Za)), colors='white', levels=[0.1,1],  hatches='/') \n",
    "ax[0].contour(Xa,Ya,Za,colors='w',linestyles=':',levels=[0.5])\n",
    "\n",
    "# Colorbar\n",
    "fig.colorbar(im, cax=cax[0], ticks=ticks,\n",
    "             label=r'Stable fixed point of $G$ when $T \\to \\infty$, $p^*$')\n",
    "cax[0].hlines(0.5,0,1,color='C0',linestyles=':')\n",
    "\n",
    "# Trajectory\n",
    "#ax[0].scatter(a_cloud[0], a_cloud[1], s=a_cloud[2], marker='.', alpha=.1, color='k', label='Resident phenotype')\n",
    "ax[0].plot(a_cloud[3],a_cloud[4],  lw=3, color='w',  label='Mean resident phenotype')\n",
    "ax[0].plot(a_cloud[3],a_cloud[4], '>', markevery=12, lw=3, color='w',  label='Mean resident phenotype')\n",
    "\n",
    "# Set axis\n",
    "ax[0].set(\n",
    "        xlabel=r'Inter-color interaction rate of type 0 resident, $a_0^{inter} \\times K$', \n",
    "        ylabel=r'Inter-color interaction rate of type 1 resident, $a_1^{inter} \\times K$',\n",
    "        title='Fixed growth rates, mutating interaction rates',\n",
    "        xlim=(Xa[0,0],Xa[-1,-1]),\n",
    "        ylim=(Ya[0,0],Ya[-1,-1])\n",
    ")\n",
    "plt.savefig('/home/guilhem/phd/www/slides/190326_IBENS/slides/bifA.svg')"
   ]
  },
  {
   "cell_type": "code",
   "execution_count": null,
   "metadata": {
    "collapsed": true
   },
   "outputs": [],
   "source": [
    "fig, ax = plt.subplots(1,2,figsize=(14,7))\n",
    "ax = ax[::-1]\n",
    "cax = [make_axes_locatable(a).append_axes(\"right\", size=\"4%\", pad=0.11) for a in ax]\n",
    "ax[1].annotate('A', **panel_dict)\n",
    "ax[0].annotate('B', **panel_dict)\n",
    "\n",
    "\n",
    "ticks = [0,0.25,0.5,0.75,1]\n",
    "levels = np.linspace(0,1,20)\n",
    "\n",
    "########### Mutating A #######################\n",
    "# Background \n",
    "im = ax[0].contourf(Xa, Ya, Za, cmap='viridis', levels=levels)\n",
    "ax[0].contourf(Xa, Ya, np.int_(np.isnan(Za)), colors='white', levels=[0.1,1],  hatches='/') \n",
    "ax[0].contour(Xa,Ya,Za,colors='w',linestyles=':',levels=[0.5])\n",
    "\n",
    "# Colorbar\n",
    "fig.colorbar(im, cax=cax[0], ticks=ticks,\n",
    "             label=r'Stable fixed point of $G$ when $T \\to \\infty$, $p^*$')\n",
    "cax[0].hlines(0.5,0,1,color='C0',linestyles=':')\n",
    "\n",
    "# Trajectory\n",
    "ax[0].scatter(a_cloud[0], a_cloud[1], s=a_cloud[2], marker='.', alpha=.1, color='k', label='Resident phenotype')\n",
    "ax[0].plot(a_cloud[3],a_cloud[4],  lw=3, color='w',  label='Mean resident phenotype')\n",
    "ax[0].plot(a_cloud[3],a_cloud[4], '>', markevery=12, lw=3, color='w',  label='Mean resident phenotype')\n",
    "\n",
    "# Set axis\n",
    "ax[0].set(\n",
    "        xlabel=r'Inter-color interaction rate of type 0 resident, $a_0^{inter} \\times K$', \n",
    "        ylabel=r'Inter-color interaction rate of type 1 resident, $a_1^{inter} \\times K$',\n",
    "        title='Fixed growth rates, mutating interaction rates',\n",
    "        xlim=(Xa[0,0],Xa[-1,-1]),\n",
    "        ylim=(Ya[0,0],Ya[-1,-1])\n",
    ")\n",
    "########### Mutating r #########################\n",
    "\n",
    "# Background image\n",
    "im = ax[1].contourf(Xr,Yr,Zr,cmap='plasma',levels=levels)\n",
    "ax[1].contour(Xr,Yr,Zr,colors='w',levels=[0.5], linestyles=':')\n",
    "\n",
    "# Trajectory\n",
    "ax[1].scatter(r_cloud[0],r_cloud[1], s=r_cloud[2], marker='.', alpha=.1, color='k')\n",
    "ax[1].plot(r_cloud[3],r_cloud[4], lw=3, color='w', label='Mean resident phenotype')\n",
    "ax[1].plot(r_cloud[3],r_cloud[4], \">\", markevery=12, lw=3, color='w', label='Mean resident phenotype')\n",
    "\n",
    "# Colorbar\n",
    "fig.colorbar(im,cax=cax[1], label=\"G(0.5)\",ticks=ticks)\n",
    "cax[1].hlines(0.5,0,1,color='w', linestyles=':')\n",
    "\n",
    "ax[1].set(\n",
    "    title='Fixed interaction rates, mutating growth rates',\n",
    "    xlabel='Growth rate of the type 0 resident, $r_0$', \n",
    "    ylabel='Growth rate of the type 1 resident, $r_1$',\n",
    "    xlim=(Xr[0,0],Xr[-1,-1]),\n",
    "    ylim=(Yr[0,0],Yr[-1,-1]))\n",
    "fig.tight_layout()\n",
    "fig.savefig('constrained_trajectories.pdf', bbox_inches='tight')\n",
    "fig.savefig('constrained_trajectories.png', bbox_inches='tight')"
   ]
  },
  {
   "cell_type": "code",
   "execution_count": null,
   "metadata": {},
   "outputs": [],
   "source": []
  }
 ],
 "metadata": {
  "kernelspec": {
   "display_name": "Python 3",
   "language": "python",
   "name": "python3"
  },
  "language_info": {
   "codemirror_mode": {
    "name": "ipython",
    "version": 3
   },
   "file_extension": ".py",
   "mimetype": "text/x-python",
   "name": "python",
   "nbconvert_exporter": "python",
   "pygments_lexer": "ipython3",
   "version": "3.5.3"
  },
  "toc": {
   "base_numbering": 1,
   "nav_menu": {},
   "number_sections": true,
   "sideBar": true,
   "skip_h1_title": false,
   "title_cell": "Table of Contents",
   "title_sidebar": "Contents",
   "toc_cell": false,
   "toc_position": {},
   "toc_section_display": true,
   "toc_window_display": false
  }
 },
 "nbformat": 4,
 "nbformat_minor": 2
}
